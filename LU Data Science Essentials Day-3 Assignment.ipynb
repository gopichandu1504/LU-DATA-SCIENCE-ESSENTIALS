{
 "cells": [
  {
   "cell_type": "markdown",
   "metadata": {},
   "source": [
    "#                                              Day-3 Assignment"
   ]
  },
  {
   "cell_type": "markdown",
   "metadata": {},
   "source": [
    "# Question-1"
   ]
  },
  {
   "cell_type": "code",
   "execution_count": 1,
   "metadata": {},
   "outputs": [],
   "source": [
    "import numpy as np"
   ]
  },
  {
   "cell_type": "code",
   "execution_count": 2,
   "metadata": {},
   "outputs": [
    {
     "data": {
      "text/plain": [
       "array([ 2,  5,  8, 11, 14, 17, 20, 23, 26, 29, 32, 35, 38, 41, 44, 47, 50])"
      ]
     },
     "execution_count": 2,
     "metadata": {},
     "output_type": "execute_result"
    }
   ],
   "source": [
    "arr=np.arange(2,51,3)\n",
    "arr\n",
    "#print(type(arr))"
   ]
  },
  {
   "cell_type": "markdown",
   "metadata": {},
   "source": [
    "# Question-2"
   ]
  },
  {
   "cell_type": "code",
   "execution_count": 21,
   "metadata": {},
   "outputs": [
    {
     "name": "stdout",
     "output_type": "stream",
     "text": [
      "l1= [] l2= []\n",
      "Accepting 5 elements for l1 from user:\n",
      "5\n",
      "4\n",
      "3\n",
      "2\n",
      "1\n",
      "Accepting 5 elements for l2 from user:\n",
      "10\n",
      "9\n",
      "8\n",
      "7\n",
      "6\n",
      "l1= [5, 4, 3, 2, 1] l2= [10, 9, 8, 7, 6]\n",
      "<class 'list'>\n",
      "<class 'list'>\n",
      "<class 'numpy.ndarray'>\n",
      "<class 'numpy.ndarray'>\n",
      "after concatenation of l1,l2 arrays: [ 5  4  3  2  1 10  9  8  7  6]\n",
      "after sorintg elements in arr: [ 1  2  3  4  5  6  7  8  9 10]\n",
      "soritng elements in l1 array: [1 2 3 4 5]\n",
      "sorting elements in l2 array: [ 6  7  8  9 10]\n"
     ]
    }
   ],
   "source": [
    "l1=[] # creating empty list l1\n",
    "l2=[] # creating empty list l2\n",
    "print(\"l1=\",l1,\"l2=\",l2) # printing Empty lists l1,l2\n",
    "print(\"Accepting 5 elements for l1 from user:\") # accepting elements for l1 from user\n",
    "for i in range(5):\n",
    "    n=int(input())\n",
    "    l1.append(n)\n",
    "print(\"Accepting 5 elements for l2 from user:\")    # accepting elements for l2 from user\n",
    "for i in range(5):\n",
    "    n=int(input())\n",
    "    l2.append(n)\n",
    "print(\"l1=\",l1,\"l2=\",l2)# printing lists l1,l2 after accepting elements from user\n",
    "print(type(l1)) # printing type of l1 before converting \n",
    "print(type(l2)) # printing type of l2 before converting\n",
    "l1=np.array(l1) # converting l1 to numpy array\n",
    "l2=np.array(l2) # converting l2 to numpy array\n",
    "print(type(l1)) # printing type of l1 after converting\n",
    "print(type(l2)) # printing type of l2 after converting\n",
    "arr=np.concatenate((l1,l2)) # concatenation of l1,l2 arrays\n",
    "print(\"after concatenation of l1,l2 arrays:\",arr) #arr  after concatenation\n",
    "print(\"after sorintg elements in arr:\",np.sort(arr)) # sorting elements of arr\n",
    "print(\"soritng elements in l1 array:\",np.sort(l1)) # sorting elements of l1\n",
    "print(\"sorting elements in l2 array:\",np.sort(l2)) # sorintg elements of l2 "
   ]
  },
  {
   "cell_type": "markdown",
   "metadata": {},
   "source": [
    "# Question-3"
   ]
  },
  {
   "cell_type": "code",
   "execution_count": 39,
   "metadata": {},
   "outputs": [
    {
     "name": "stdout",
     "output_type": "stream",
     "text": [
      "1d array:\n",
      " [1 2 3]\n",
      "\n",
      "2d array:\n",
      " [[ 1  2  3  4]\n",
      " [ 5  6  7  8]\n",
      " [ 9 10 11 12]]\n",
      "\n",
      "3d array:\n",
      " [[[ 1  2  3  4]\n",
      "  [ 5  6  7  8]\n",
      "  [ 9 10 11 12]]\n",
      "\n",
      " [[13 14 15 16]\n",
      "  [17 18 19 20]\n",
      "  [21 22 23 24]]]\n",
      "Dimension of arr1d:  1\n",
      "Dimension of arr2d:  2\n",
      "Dimension of arr3d:  3\n",
      "\n",
      "size of arr1d:  3\n",
      "size of arr2d:  12\n",
      "size of arr3d:  24\n"
     ]
    }
   ],
   "source": [
    "arr1d=np.arange(1,4) # creating 1 dimension array with elements from 1 to 4-1\n",
    "print(\"1d array:\\n\",arr1d)\n",
    "print()\n",
    "arr2d=np.arange(1,13).reshape(3,4) # creating 2 dimension array with elements from 1 to 13-1\n",
    "print(\"2d array:\\n\",arr2d)\n",
    "print()\n",
    "arr3d=np.arange(1,25).reshape(2,3,4) # # creating 3 dimension array with elements from 1 to 25-1\n",
    "print(\"3d array:\\n\",arr3d)\n",
    "# finding Dimensions of ndarray's\n",
    "print(\"Dimension of arr1d: \",arr1d.ndim)\n",
    "print(\"Dimension of arr2d: \",arr2d.ndim)\n",
    "print(\"Dimension of arr3d: \",arr3d.ndim)\n",
    "print()\n",
    "# finding size of ndarray's  i.e; no of elements in each array\n",
    "print(\"size of arr1d: \",arr1d.size)\n",
    "print(\"size of arr2d: \",arr2d.size)\n",
    "print(\"size of arr3d: \",arr3d.size)"
   ]
  },
  {
   "cell_type": "markdown",
   "metadata": {},
   "source": [
    "# question-4"
   ]
  },
  {
   "cell_type": "markdown",
   "metadata": {},
   "source": [
    "# converting 1d array to 2d array by using np.newaxis "
   ]
  },
  {
   "cell_type": "code",
   "execution_count": 47,
   "metadata": {},
   "outputs": [
    {
     "name": "stdout",
     "output_type": "stream",
     "text": [
      "True\n"
     ]
    }
   ],
   "source": [
    "print(np.newaxis is None)"
   ]
  },
  {
   "cell_type": "raw",
   "metadata": {},
   "source": [
    "It's just given an alias to make it easier to understand. If you replace np.newaxis in the sample code below with None, it works the same way.\n",
    "\n",
    "Adding new dimensions with np.newaxis\n",
    "\n",
    "Using np.newaxis inside [] adds a new dimension of size 1 at that position."
   ]
  },
  {
   "cell_type": "code",
   "execution_count": 59,
   "metadata": {},
   "outputs": [
    {
     "name": "stdout",
     "output_type": "stream",
     "text": [
      "[0 1 2 3 4 5]\n",
      "\n",
      "No. of Dimensions: 1\n"
     ]
    }
   ],
   "source": [
    "a = np.arange(6).reshape(6)\n",
    "print(a)\n",
    "print()\n",
    "print(\"No. of Dimensions:\",a.ndim)"
   ]
  },
  {
   "cell_type": "code",
   "execution_count": 60,
   "metadata": {},
   "outputs": [
    {
     "name": "stdout",
     "output_type": "stream",
     "text": [
      "[[0]\n",
      " [1]\n",
      " [2]\n",
      " [3]\n",
      " [4]\n",
      " [5]]\n",
      "No. of Dimensions: 2\n",
      "Shape: (6, 1)\n",
      "\n",
      "[[0 1 2 3 4 5]]\n",
      "No. of Dimensions: 2\n",
      "Shape: (1, 6)\n"
     ]
    }
   ],
   "source": [
    "print(a[:,np.newaxis])\n",
    "print(\"No. of Dimensions:\",a[:,None].ndim) # here None is np.newaxis\n",
    "print(\"Shape:\",a[:,None].shape)\n",
    "print()\n",
    "print(a[np.newaxis,:])\n",
    "print(\"No. of Dimensions:\",a[None,:].ndim)\n",
    "print(\"Shape:\",a[None,:].shape)\n"
   ]
  },
  {
   "cell_type": "raw",
   "metadata": {},
   "source": [
    "The trailing : in [] can be omitted."
   ]
  },
  {
   "cell_type": "code",
   "execution_count": 61,
   "metadata": {},
   "outputs": [
    {
     "name": "stdout",
     "output_type": "stream",
     "text": [
      "[[0 1 2 3 4 5]]\n",
      "No. of Dimensions: 2\n",
      "Shape: (1, 6)\n"
     ]
    }
   ],
   "source": [
    "print(a[np.newaxis])\n",
    "print(\"No. of Dimensions:\",a[None].ndim)\n",
    "print(\"Shape:\",a[None].shape)"
   ]
  },
  {
   "cell_type": "markdown",
   "metadata": {},
   "source": [
    "# Add a new dimension with np.expand_dims()"
   ]
  },
  {
   "cell_type": "raw",
   "metadata": {},
   "source": [
    "You can also add a new dimension to ndarray using np.expand_dims().\n",
    "\n",
    "Specify the original ndarray in the first argument a and the position to add the dimension in the second argument axis."
   ]
  },
  {
   "cell_type": "code",
   "execution_count": 72,
   "metadata": {},
   "outputs": [
    {
     "name": "stdout",
     "output_type": "stream",
     "text": [
      "[0 1 2 3 4 5]\n",
      "\n",
      "No. of Dimensions: 1\n"
     ]
    }
   ],
   "source": [
    "a = np.arange(6).reshape(6)\n",
    "print(a)\n",
    "print()\n",
    "print(\"No. of Dimensions:\",a.ndim)"
   ]
  },
  {
   "cell_type": "code",
   "execution_count": 71,
   "metadata": {},
   "outputs": [
    {
     "name": "stdout",
     "output_type": "stream",
     "text": [
      "[[0 1 2 3 4 5]]\n",
      "No. of Dimensions: 2\n",
      "(1, 6)\n",
      "\n",
      "[[0]\n",
      " [1]\n",
      " [2]\n",
      " [3]\n",
      " [4]\n",
      " [5]]\n",
      "No. of Dimensions: 2\n",
      "(6, 1)\n",
      "\n"
     ]
    }
   ],
   "source": [
    "print(np.expand_dims(a, 0))\n",
    "print(\"No. of Dimensions:\",np.expand_dims(a,0).ndim) # adding dimension at 0th position\n",
    "print(np.expand_dims(a,0).shape)\n",
    "print()\n",
    "print(np.expand_dims(a, 1))\n",
    "print(\"No. of Dimensions:\",np.expand_dims(a,1).ndim) # adding dimension at 1st position\n",
    "print(np.expand_dims(a,1).shape)\n",
    "print()"
   ]
  },
  {
   "cell_type": "markdown",
   "metadata": {},
   "source": [
    "# Question-5"
   ]
  },
  {
   "cell_type": "code",
   "execution_count": 86,
   "metadata": {},
   "outputs": [
    {
     "name": "stdout",
     "output_type": "stream",
     "text": [
      "Stack arrays in sequence horizontally (column wise).\n",
      " [[1 2 1]\n",
      " [8 7 2]\n",
      " [9 4 3]\n",
      " [6 0 4]]\n",
      "\n",
      "Stack arrays in sequence vertically (row wise).\n",
      " [[1]\n",
      " [8]\n",
      " [9]\n",
      " [6]\n",
      " [2]\n",
      " [7]\n",
      " [4]\n",
      " [0]\n",
      " [1]\n",
      " [2]\n",
      " [3]\n",
      " [4]]\n"
     ]
    }
   ],
   "source": [
    "a=np.array([[1],[8],[9],[6]])\n",
    "b=np.array([[2],[7],[4],[0]])\n",
    "c=np.array([[1],[2],[3],[4]])\n",
    "print(\"Stack arrays in sequence horizontally (column wise).\\n\",np.hstack((a,b,c)))\n",
    "print()\n",
    "print(\"Stack arrays in sequence vertically (row wise).\\n\",np.vstack((a,b,c)))"
   ]
  },
  {
   "cell_type": "markdown",
   "metadata": {},
   "source": [
    "#  Question-6"
   ]
  },
  {
   "cell_type": "code",
   "execution_count": 106,
   "metadata": {},
   "outputs": [
    {
     "name": "stdout",
     "output_type": "stream",
     "text": [
      "User given array:\n",
      " [1 2 3 1 1 6 2 3 8 9 4 8 9]\n",
      "\n",
      "unique items followed by their count:\n",
      "[[1 2 3 4 6 8 9]\n",
      " [3 2 2 1 1 2 2]]\n"
     ]
    }
   ],
   "source": [
    "arr=np.array([1,2,3,1,1,6,2,3,8,9,4,8,9])\n",
    "print(\"User given array:\\n\",arr)\n",
    "print()\n",
    "unique_items,counts=np.unique(arr,return_counts=True)\n",
    "#print(unique_items)\n",
    "#print(counts)\n",
    "print(\"unique items followed by their count:\")\n",
    "print(np.asarray((unique_items,counts)))"
   ]
  },
  {
   "cell_type": "code",
   "execution_count": null,
   "metadata": {},
   "outputs": [],
   "source": []
  }
 ],
 "metadata": {
  "kernelspec": {
   "display_name": "Python 3",
   "language": "python",
   "name": "python3"
  },
  "language_info": {
   "codemirror_mode": {
    "name": "ipython",
    "version": 3
   },
   "file_extension": ".py",
   "mimetype": "text/x-python",
   "name": "python",
   "nbconvert_exporter": "python",
   "pygments_lexer": "ipython3",
   "version": "3.8.3"
  }
 },
 "nbformat": 4,
 "nbformat_minor": 4
}
