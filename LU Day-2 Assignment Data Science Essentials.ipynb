{
 "cells": [
  {
   "cell_type": "markdown",
   "metadata": {},
   "source": [
    "# Question-1"
   ]
  },
  {
   "cell_type": "code",
   "execution_count": 68,
   "metadata": {},
   "outputs": [
    {
     "name": "stdout",
     "output_type": "stream",
     "text": [
      "[]\n",
      "1\n",
      "2\n",
      "6\n",
      "5\n",
      "9\n",
      "10\n",
      "12\n",
      "13\n",
      "15\n",
      "16\n",
      "[2, 6, 10, 12, 16]\n"
     ]
    }
   ],
   "source": [
    "l=[]\n",
    "print(l) # printing an empty list\n",
    "for i in range(10):\n",
    "    n=int(input())\n",
    "    if(n%2==0):\n",
    "        l.append(n)\n",
    "print(l)    "
   ]
  },
  {
   "cell_type": "markdown",
   "metadata": {},
   "source": [
    "# Question-2"
   ]
  },
  {
   "cell_type": "markdown",
   "metadata": {},
   "source": [
    "1.List comprehension is an elegant way to define and create lists based on existing lists.\n",
    "2.List comprehnsion isgenerally more compact and used to save(reduce) lines of code\n",
    "3.It is also used to run faster(time taken to execute code) \n",
    "4.Every list comprehension can be rewrittten in for loop but every loop can't be rewritten in list comprehension. \n",
    "# Basic Syntax\n",
    "\n",
    "new_list=[expr FOR element IN in_list]\n",
    "\n",
    "# Advanced Syntax\n",
    "new_list=[expr FOR element IN in_list IF condition OR/AND Expr1]\n",
    "\n",
    "# Conditionals in list Comprehension\n",
    " List comprehensions can utilize conditional statement to modify existing list.\n",
    " example: number=[x for x in range(10) if x%2==0]\n",
    "          print(number)\n",
    "          o/p:-[0,2,4,6,8]"
   ]
  },
  {
   "cell_type": "code",
   "execution_count": 43,
   "metadata": {},
   "outputs": [
    {
     "name": "stdout",
     "output_type": "stream",
     "text": [
      "[0, 2, 4, 6, 8]\n"
     ]
    }
   ],
   "source": [
    "#example of list comprehension for question-1 similar\n",
    "even=[x for x in range(10) if(x%2==0)]\n",
    "print(even)"
   ]
  },
  {
   "cell_type": "markdown",
   "metadata": {},
   "source": [
    "#  Question-3"
   ]
  },
  {
   "cell_type": "code",
   "execution_count": 51,
   "metadata": {},
   "outputs": [
    {
     "name": "stdout",
     "output_type": "stream",
     "text": [
      "8\n",
      "{1: 1, 2: 4, 3: 9, 4: 16, 5: 25, 6: 36, 7: 49, 8: 64}\n"
     ]
    }
   ],
   "source": [
    "n=int(input())\n",
    "d={i:i*i for i in range(1,n+1)}\n",
    "print(d)"
   ]
  },
  {
   "cell_type": "markdown",
   "metadata": {},
   "source": [
    "# Question-4"
   ]
  },
  {
   "cell_type": "code",
   "execution_count": 20,
   "metadata": {},
   "outputs": [
    {
     "name": "stdout",
     "output_type": "stream",
     "text": [
      "4\n",
      "UP 5\n",
      "DOWN 3\n",
      "LEFT 3\n",
      "RIGHT 2\n",
      "2\n"
     ]
    }
   ],
   "source": [
    "import math\n",
    "\n",
    "n=int(input())\n",
    "x,y=0,0\n",
    "if n==1:\n",
    "    step=input()\n",
    "    step=step.split(\" \")\n",
    "    step[0]==\"UP\"\n",
    "    y=y+int(step[1])\n",
    "    \n",
    "elif n==2:\n",
    "    step=input()\n",
    "    step=step.split(\" \")\n",
    "    step[0]==\"UP\"\n",
    "    y=y+int(step[1])\n",
    "    step=input()\n",
    "    step=step.split(\" \")\n",
    "    step[0]==\"DOWN\"\n",
    "    y=y-int(step[1])\n",
    "elif n==3:\n",
    "    step=input()\n",
    "    step=step.split(\" \")\n",
    "    step[0]==\"UP\"\n",
    "    y=y+int(step[1])\n",
    "    step=input()\n",
    "    step=step.split(\" \")\n",
    "    step[0]==\"DOWN\"\n",
    "    y=y-int(step[1])\n",
    "    step=step.split(\" \")\n",
    "    step[0]==\"LEFT\"\n",
    "    x=x-int(step[1])\n",
    "elif n==4:\n",
    "    step=input()\n",
    "    step=step.split(\" \")\n",
    "    step[0]==\"UP\"\n",
    "    y=y+int(step[1])\n",
    "    step=input()\n",
    "    step=step.split(\" \")\n",
    "    step[0]==\"DOWN\"\n",
    "    y=y-int(step[1])\n",
    "    step=input()\n",
    "    step=step.split(\" \")\n",
    "    step[0]==\"LEFT\"\n",
    "    x=x-int(step[1])\n",
    "    step=input()\n",
    "    step=step.split(\" \")\n",
    "    step[0]==\"RIGHT\"\n",
    "    x=x+int(step[1])\n",
    "elif n>4:\n",
    "    print(\"please enter valid number of directions\")\n",
    "   \n",
    "c=int(round(math.sqrt(x**2+y**2),0))\n",
    "print(c)\n",
    "\n",
    "\n",
    " # if(step==\"\"):\n",
    "  #      break\n",
    "        "
   ]
  },
  {
   "cell_type": "code",
   "execution_count": null,
   "metadata": {},
   "outputs": [],
   "source": []
  }
 ],
 "metadata": {
  "kernelspec": {
   "display_name": "Python 3",
   "language": "python",
   "name": "python3"
  },
  "language_info": {
   "codemirror_mode": {
    "name": "ipython",
    "version": 3
   },
   "file_extension": ".py",
   "mimetype": "text/x-python",
   "name": "python",
   "nbconvert_exporter": "python",
   "pygments_lexer": "ipython3",
   "version": "3.8.3"
  }
 },
 "nbformat": 4,
 "nbformat_minor": 4
}
