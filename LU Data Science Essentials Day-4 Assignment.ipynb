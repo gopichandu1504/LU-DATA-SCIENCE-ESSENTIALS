{
 "cells": [
  {
   "cell_type": "markdown",
   "metadata": {},
   "source": [
    "# Day-4 Assignment\n"
   ]
  },
  {
   "cell_type": "markdown",
   "metadata": {},
   "source": [
    "# Question-1"
   ]
  },
  {
   "cell_type": "code",
   "execution_count": 1,
   "metadata": {},
   "outputs": [
    {
     "name": "stdout",
     "output_type": "stream",
     "text": [
      "1.0.5\n"
     ]
    }
   ],
   "source": [
    "import pandas as pd # importing pandas with alias name pd\n",
    "print(pd.__version__) # checking version of pandas"
   ]
  },
  {
   "cell_type": "markdown",
   "metadata": {},
   "source": [
    "# Question-2"
   ]
  },
  {
   "cell_type": "code",
   "execution_count": 2,
   "metadata": {},
   "outputs": [
    {
     "name": "stdout",
     "output_type": "stream",
     "text": [
      "<class 'dict'>\n",
      "\n",
      "{'California': 135554, 'Texas': 123456, 'New york': 46546674, 'Florida': 1451654, 'Illionois': 268948}\n",
      "\n",
      "<class 'numpy.ndarray'>\n"
     ]
    }
   ],
   "source": [
    "# Example-1\n",
    "\n",
    "import numpy as np\n",
    "population_dict={               # creating population dictionary\n",
    "    'California':135554,\n",
    "    'Texas':123456,\n",
    "    'New york':46546674,\n",
    "    'Florida':1451654,\n",
    "    'Illionois':268948\n",
    "}\n",
    "print(type(population_dict))\n",
    "print()\n",
    "population=np.array(population_dict) # converting population to numpy array\n",
    "print(population)\n",
    "print()\n",
    "print(type(population)) # printing type of population"
   ]
  },
  {
   "cell_type": "code",
   "execution_count": 3,
   "metadata": {},
   "outputs": [
    {
     "name": "stdout",
     "output_type": "stream",
     "text": [
      "0    {'California': 135554, 'Texas': 123456, 'New y...\n",
      "dtype: object\n",
      "\n",
      "<class 'pandas.core.series.Series'>\n"
     ]
    }
   ],
   "source": [
    "se=pd.Series(population)\n",
    "print(se)\n",
    "print()\n",
    "print(type(se))"
   ]
  },
  {
   "cell_type": "code",
   "execution_count": 4,
   "metadata": {},
   "outputs": [
    {
     "name": "stdout",
     "output_type": "stream",
     "text": [
      "<class 'numpy.ndarray'>\n",
      "\n",
      "0    {'a': 0, 'b': 0}\n",
      "1    {'a': 1, 'b': 2}\n",
      "2    {'a': 2, 'b': 4}\n",
      "dtype: object\n",
      "<class 'pandas.core.series.Series'>\n"
     ]
    }
   ],
   "source": [
    "# Example-2\n",
    "d=[{'a':i,'b':2*i} for i in range(3)]\n",
    "arr=np.array(d)\n",
    "print(type(arr))\n",
    "print()\n",
    "s=pd.Series(arr)\n",
    "print(s)\n",
    "print(type(s))"
   ]
  },
  {
   "cell_type": "markdown",
   "metadata": {},
   "source": [
    "# Question-3"
   ]
  },
  {
   "cell_type": "code",
   "execution_count": 28,
   "metadata": {},
   "outputs": [
    {
     "name": "stdout",
     "output_type": "stream",
     "text": [
      "[{'a': 0, 'b': 0}, {'a': 1, 'b': 2}, {'a': 2, 'b': 4}]\n",
      "<class 'list'>\n",
      "\n",
      "converting list to series:\n",
      " a    {'a': 0, 'b': 0}\n",
      "b    {'a': 1, 'b': 2}\n",
      "c    {'a': 2, 'b': 4}\n",
      "dtype: object\n",
      "<class 'pandas.core.series.Series'>\n",
      "\n",
      "converting list to dataframe:\n",
      "    a  b\n",
      "0  0  0\n",
      "1  1  2\n",
      "2  2  4\n",
      "<class 'pandas.core.frame.DataFrame'>\n",
      "\n",
      "converting index of series into column name of dataframe:\n",
      "\n",
      "   a  b index\n",
      "0  0  0     a\n",
      "1  1  2     b\n",
      "2  2  4     c\n"
     ]
    }
   ],
   "source": [
    "d=[{'a':i,'b':2*i} for i in range(3)]\n",
    "print(d)\n",
    "print(type(d))\n",
    "print()\n",
    "s=pd.Series(d,index=['a','b','c'])\n",
    "print(\"converting list to series:\\n\",s)\n",
    "print(type(s))\n",
    "print()\n",
    "df=pd.DataFrame(d)\n",
    "print(\"converting list to dataframe:\\n\",df)\n",
    "print(type(df))\n",
    "print()\n",
    "df['index']=s.index\n",
    "print(\"converting index of series into column name of dataframe:\\n\")\n",
    "print(df)\n"
   ]
  },
  {
   "cell_type": "markdown",
   "metadata": {},
   "source": [
    "# Question-4"
   ]
  },
  {
   "cell_type": "code",
   "execution_count": 30,
   "metadata": {},
   "outputs": [
    {
     "name": "stdout",
     "output_type": "stream",
     "text": [
      "0.10.1\n"
     ]
    }
   ],
   "source": [
    "import seaborn as sb\n",
    "print(sb.__version__)"
   ]
  },
  {
   "cell_type": "code",
   "execution_count": 38,
   "metadata": {},
   "outputs": [
    {
     "name": "stdout",
     "output_type": "stream",
     "text": [
      "['anagrams', 'anscombe', 'attention', 'brain_networks', 'car_crashes', 'diamonds', 'dots', 'exercise', 'flights', 'fmri', 'gammas', 'geyser', 'iris', 'mpg', 'penguins', 'planets', 'tips', 'titanic']\n"
     ]
    }
   ],
   "source": [
    "print(sb.get_dataset_names())"
   ]
  },
  {
   "cell_type": "code",
   "execution_count": 39,
   "metadata": {},
   "outputs": [
    {
     "name": "stdout",
     "output_type": "stream",
     "text": [
      "      mpg  cylinders  displacement  horsepower  weight  acceleration  \\\n",
      "0    18.0          8         307.0       130.0    3504          12.0   \n",
      "1    15.0          8         350.0       165.0    3693          11.5   \n",
      "2    18.0          8         318.0       150.0    3436          11.0   \n",
      "3    16.0          8         304.0       150.0    3433          12.0   \n",
      "4    17.0          8         302.0       140.0    3449          10.5   \n",
      "..    ...        ...           ...         ...     ...           ...   \n",
      "393  27.0          4         140.0        86.0    2790          15.6   \n",
      "394  44.0          4          97.0        52.0    2130          24.6   \n",
      "395  32.0          4         135.0        84.0    2295          11.6   \n",
      "396  28.0          4         120.0        79.0    2625          18.6   \n",
      "397  31.0          4         119.0        82.0    2720          19.4   \n",
      "\n",
      "     model_year  origin                       name  \n",
      "0            70     usa  chevrolet chevelle malibu  \n",
      "1            70     usa          buick skylark 320  \n",
      "2            70     usa         plymouth satellite  \n",
      "3            70     usa              amc rebel sst  \n",
      "4            70     usa                ford torino  \n",
      "..          ...     ...                        ...  \n",
      "393          82     usa            ford mustang gl  \n",
      "394          82  europe                  vw pickup  \n",
      "395          82     usa              dodge rampage  \n",
      "396          82     usa                ford ranger  \n",
      "397          82     usa                 chevy s-10  \n",
      "\n",
      "[398 rows x 9 columns]\n"
     ]
    }
   ],
   "source": [
    "ds=sb.load_dataset('mpg')\n",
    "print(ds)"
   ]
  },
  {
   "cell_type": "markdown",
   "metadata": {},
   "source": [
    "# Question-5"
   ]
  },
  {
   "cell_type": "code",
   "execution_count": 67,
   "metadata": {},
   "outputs": [
    {
     "name": "stdout",
     "output_type": "stream",
     "text": [
      "['usa' 'japan' 'europe']\n"
     ]
    }
   ],
   "source": [
    "print(ds['origin'].unique())\n"
   ]
  },
  {
   "cell_type": "markdown",
   "metadata": {},
   "source": [
    "# Question-6"
   ]
  },
  {
   "cell_type": "code",
   "execution_count": 70,
   "metadata": {},
   "outputs": [
    {
     "name": "stdout",
     "output_type": "stream",
     "text": [
      "      mpg  cylinders  displacement  horsepower  weight  acceleration  \\\n",
      "46   22.0          4         140.0        72.0    2408          19.0   \n",
      "138  14.0          8         318.0       150.0    4457          13.5   \n",
      "284  20.6          6         225.0       110.0    3360          16.6   \n",
      "72   15.0          8         304.0       150.0    3892          12.5   \n",
      "305  28.4          4         151.0        90.0    2670          16.0   \n",
      "\n",
      "     model_year origin                       name  \n",
      "46           71    usa        chevrolet vega (sw)  \n",
      "138          74    usa  dodge coronet custom (sw)  \n",
      "284          79    usa              dodge aspen 6  \n",
      "72           72    usa           amc matador (sw)  \n",
      "305          79    usa      buick skylark limited  \n"
     ]
    }
   ],
   "source": [
    "us=ds.loc[ds['origin']=='usa']\n",
    "print(us.sample(5))"
   ]
  },
  {
   "cell_type": "code",
   "execution_count": null,
   "metadata": {},
   "outputs": [],
   "source": []
  }
 ],
 "metadata": {
  "kernelspec": {
   "display_name": "Python 3",
   "language": "python",
   "name": "python3"
  },
  "language_info": {
   "codemirror_mode": {
    "name": "ipython",
    "version": 3
   },
   "file_extension": ".py",
   "mimetype": "text/x-python",
   "name": "python",
   "nbconvert_exporter": "python",
   "pygments_lexer": "ipython3",
   "version": "3.8.3"
  }
 },
 "nbformat": 4,
 "nbformat_minor": 4
}
